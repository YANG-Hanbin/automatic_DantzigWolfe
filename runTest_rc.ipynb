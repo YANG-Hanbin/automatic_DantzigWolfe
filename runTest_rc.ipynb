{
 "cells": [
  {
   "cell_type": "code",
   "execution_count": 11,
   "metadata": {},
   "outputs": [],
   "source": [
    "from readin import read_model\n",
    "from readin import get_info\n",
    "from decomp_row_col_net import decomp_model\n",
    "from decomp_row_col_net import solve_decomp_with_slack\n",
    "from benchmark import solve_obj_0\n",
    "from benchmark import solve_all_add_slack\n",
    "\n",
    "import pandas as pd"
   ]
  },
  {
   "cell_type": "code",
   "execution_count": 12,
   "metadata": {},
   "outputs": [
    {
     "name": "stdout",
     "output_type": "stream",
     "text": [
      "Read MPS format model from file instances/bab1.mps.gz\n",
      "Reading time = 0.36 seconds\n",
      "bab1: 60680 rows, 61152 columns, 854392 nonzeros\n",
      "Read MPS format model from file instances/bab1.mps.gz\n",
      "Reading time = 0.39 seconds\n",
      "bab1: 60680 rows, 61152 columns, 854392 nonzeros\n",
      "Read MPS format model from file instances/bab1.mps.gz\n",
      "Reading time = 0.41 seconds\n",
      "bab1: 60680 rows, 61152 columns, 854392 nonzeros\n",
      "Read MPS format model from file instances/bab1.mps.gz\n",
      "Reading time = 0.32 seconds\n",
      "bab1: 60680 rows, 61152 columns, 854392 nonzeros\n",
      "Create a Row-Column-Net Hypergraph.\n",
      "We do weighted partition\n",
      "shmetis ../Tests/readMPS/HGraphFiles/bab1rcHG 5 1\n",
      "Current directory: /Users/aaron/Decomposition/hmetis-1.5-osx-i686\n",
      "/Users/aaron/Decomposition/Tests/readMPS\n"
     ]
    },
    {
     "data": {
      "image/png": "[encoded data removed]",
      "text/plain": [
       "<Figure size 432x288 with 1 Axes>"
      ]
     },
     "metadata": {
      "needs_background": "light"
     },
     "output_type": "display_data"
    }
   ],
   "source": [
    "instance = ['atm20-100', 'bab1', 'bab2']\n",
    "nBlocks_lst = [2,3,4,5,6,7,8,9,10]\n",
    "HGtype = 'rc' # hypergraph type: 'r' row-net\n",
    "i = 1\n",
    "m, m_new, m_new1, m_new2 = read_model(instance[i])\n",
    "A, x, con, sizeA, nonzeros, RHS, SENSE, vars = get_info(m)\n",
    "nBlocks = 5\n",
    "add_slack, add_copy_var, num_linking_cons, num_copy_var, lowest_count, highest_count = decomp_model(A, sizeA, con, nonzeros, vars, instance[i], nBlocks, 1, 5000, 1)"
   ]
  },
  {
   "cell_type": "code",
   "execution_count": 14,
   "metadata": {},
   "outputs": [
    {
     "name": "stderr",
     "output_type": "stream",
     "text": [
      "<ipython-input-14-9df7fa0c6948>:1: DeprecationWarning: Deprecated, pass a TempConstr or use Model.addLConstr\n",
      "  feasibility_time, feasibility_status = solve_decomp_with_slack(A, vars, RHS, SENSE, add_slack, add_copy_var)\n"
     ]
    },
    {
     "name": "stdout",
     "output_type": "stream",
     "text": [
      "Set parameter Seed to value 77\n",
      "Set parameter TimeLimit to value 600\n",
      "Gurobi Optimizer version 9.5.2 build v9.5.2rc0 (mac64[x86])\n",
      "Thread count: 4 physical cores, 8 logical processors, using up to 8 threads\n",
      "Optimize a model with 60862 rows, 166770 columns and 960374 nonzeros\n",
      "Model fingerprint: 0x37ed3d49\n",
      "Variable types: 105527 continuous, 61243 integer (0 binary)\n",
      "Coefficient statistics:\n",
      "  Matrix range     [5e-02, 4e+00]\n",
      "  Objective range  [1e+00, 1e+00]\n",
      "  Bounds range     [1e+00, 1e+00]\n",
      "  RHS range        [1e+00, 5e+01]\n",
      "Presolve removed 39978 rows and 117894 columns\n",
      "Presolve time: 1.02s\n",
      "Presolved: 20884 rows, 48876 columns, 318864 nonzeros\n",
      "Variable types: 0 continuous, 48876 integer (37962 binary)\n",
      "\n",
      "Deterministic concurrent LP optimizer: primal and dual simplex\n",
      "Showing first log only...\n",
      "\n",
      "Concurrent spin time: 0.00s\n",
      "\n",
      "Solved with dual simplex\n",
      "\n",
      "Root relaxation: objective 0.000000e+00, 2526 iterations, 0.40 seconds (0.38 work units)\n",
      "\n",
      "    Nodes    |    Current Node    |     Objective Bounds      |     Work\n",
      " Expl Unexpl |  Obj  Depth IntInf | Incumbent    BestBd   Gap | It/Node Time\n",
      "\n",
      "H    0     0                       0.0000000    0.00000  0.00%     -    1s\n",
      "     0     0    0.00000    0   20    0.00000    0.00000  0.00%     -    1s\n",
      "\n",
      "Explored 1 nodes (3773 simplex iterations) in 1.97 seconds (2.01 work units)\n",
      "Thread count was 8 (of 8 available processors)\n",
      "\n",
      "Solution count 1: 0 \n",
      "\n",
      "Optimal solution found (tolerance 1.00e-04)\n",
      "Best objective 0.000000000000e+00, best bound 0.000000000000e+00, gap 0.0000%\n",
      "0.0\n"
     ]
    }
   ],
   "source": [
    "feasibility_time, feasibility_status = solve_decomp_with_slack(A, vars, RHS, SENSE, add_slack, add_copy_var)"
   ]
  },
  {
   "cell_type": "code",
   "execution_count": 15,
   "metadata": {},
   "outputs": [
    {
     "data": {
      "text/plain": [
       "1.982680082321167"
      ]
     },
     "execution_count": 15,
     "metadata": {},
     "output_type": "execute_result"
    }
   ],
   "source": [
    "feasibility_time"
   ]
  },
  {
   "cell_type": "code",
   "execution_count": 17,
   "metadata": {},
   "outputs": [
    {
     "name": "stdout",
     "output_type": "stream",
     "text": [
      "Read MPS format model from file instances/bab1.mps.gz\n",
      "Reading time = 0.38 seconds\n",
      "bab1: 60680 rows, 61152 columns, 854392 nonzeros\n",
      "Read MPS format model from file instances/bab1.mps.gz\n",
      "Reading time = 0.37 seconds\n",
      "bab1: 60680 rows, 61152 columns, 854392 nonzeros\n",
      "Read MPS format model from file instances/bab1.mps.gz\n",
      "Reading time = 0.42 seconds\n",
      "bab1: 60680 rows, 61152 columns, 854392 nonzeros\n",
      "Read MPS format model from file instances/bab1.mps.gz\n",
      "Reading time = 0.33 seconds\n",
      "bab1: 60680 rows, 61152 columns, 854392 nonzeros\n",
      "Create a Row-Column-Net Hypergraph.\n",
      "We do weighted partition\n",
      "shmetis ../Tests/readMPS/HGraphFiles/bab1rcHG 5 1\n",
      "Current directory: /Users/aaron/Decomposition/hmetis-1.5-osx-i686\n",
      "/Users/aaron/Decomposition/Tests/readMPS\n"
     ]
    },
    {
     "data": {
      "image/png": "[encoded data removed]",
      "text/plain": [
       "<Figure size 432x288 with 1 Axes>"
      ]
     },
     "metadata": {
      "needs_background": "light"
     },
     "output_type": "display_data"
    }
   ],
   "source": [
    "instance = ['atm20-100', 'bab1', 'bab2']\n",
    "nBlocks_lst = [2,3,4,5,6,7,8,9,10]\n",
    "HGtype = 'rc' # hypergraph type: 'r' row-net\n",
    "i = 1\n",
    "m, m_new, m_new1, m_new2 = read_model(instance[i])\n",
    "A, x, con, sizeA, nonzeros, RHS, SENSE, vars = get_info(m)\n",
    "nBlocks = 5\n",
    "add_slack, add_copy_var, num_linking_cons, num_copy_var, lowest_count, highest_count = decomp_model(A, sizeA, con, nonzeros, vars, instance[i], nBlocks, 1, 5, 1)"
   ]
  },
  {
   "cell_type": "code",
   "execution_count": 16,
   "metadata": {},
   "outputs": [
    {
     "name": "stdout",
     "output_type": "stream",
     "text": [
      "Read MPS format model from file instances/atm20-100.mps.gz\n",
      "Reading time = 0.05 seconds\n",
      "atm20-100: 4380 rows, 6480 columns, 58878 nonzeros\n",
      "Read MPS format model from file instances/atm20-100.mps.gz\n",
      "Reading time = 0.04 seconds\n",
      "atm20-100: 4380 rows, 6480 columns, 58878 nonzeros\n",
      "Read MPS format model from file instances/atm20-100.mps.gz\n",
      "Reading time = 0.04 seconds\n",
      "atm20-100: 4380 rows, 6480 columns, 58878 nonzeros\n",
      "Read MPS format model from file instances/atm20-100.mps.gz\n",
      "Reading time = 0.05 seconds\n",
      "atm20-100: 4380 rows, 6480 columns, 58878 nonzeros\n",
      "Create a Row-Column-Net Hypergraph.\n",
      "We do weighted partition\n",
      "shmetis ../Tests/readMPS/HGraphFiles/atm20-100rcHG 5 1\n",
      "Current directory: /Users/aaron/Decomposition/hmetis-1.5-osx-i686\n",
      "/Users/aaron/Decomposition/Tests/readMPS\n"
     ]
    },
    {
     "data": {
      "image/png": "[encoded data removed]",
      "text/plain": [
       "<Figure size 432x288 with 1 Axes>"
      ]
     },
     "metadata": {
      "needs_background": "light"
     },
     "output_type": "display_data"
    }
   ],
   "source": [
    "instance = ['atm20-100']\n",
    "nBlocks_lst = [2,3,4,5,6,7,8,9,10]\n",
    "HGtype = 'rc' # hypergraph type: 'r' row-net\n",
    "i = 0\n",
    "m, m_new, m_new1, m_new2 = read_model(instance[i])\n",
    "A, x, con, sizeA, nonzeros, RHS, SENSE, vars = get_info(m)\n",
    "nBlocks = 5\n",
    "add_slack, add_copy_var, num_linking_cons, num_copy_var, lowest_count, highest_count = decomp_model(A, sizeA, con, nonzeros, vars, instance[i], nBlocks, weight_r = 1, weight_c = 2, flag = 1)"
   ]
  },
  {
   "cell_type": "code",
   "execution_count": 18,
   "metadata": {},
   "outputs": [
    {
     "data": {
      "text/plain": [
       "91"
      ]
     },
     "execution_count": 18,
     "metadata": {},
     "output_type": "execute_result"
    }
   ],
   "source": [
    "num_copy_var"
   ]
  },
  {
   "cell_type": "code",
   "execution_count": 2,
   "metadata": {},
   "outputs": [
    {
     "name": "stdout",
     "output_type": "stream",
     "text": [
      "Read MPS format model from file instances/atm20-100.mps.gz\n",
      "Reading time = 0.04 seconds\n",
      "atm20-100: 4380 rows, 6480 columns, 58878 nonzeros\n",
      "Read MPS format model from file instances/atm20-100.mps.gz\n",
      "Reading time = 0.05 seconds\n",
      "atm20-100: 4380 rows, 6480 columns, 58878 nonzeros\n",
      "Read MPS format model from file instances/atm20-100.mps.gz\n",
      "Reading time = 0.06 seconds\n",
      "atm20-100: 4380 rows, 6480 columns, 58878 nonzeros\n",
      "Read MPS format model from file instances/atm20-100.mps.gz\n",
      "Reading time = 0.06 seconds\n",
      "atm20-100: 4380 rows, 6480 columns, 58878 nonzeros\n",
      "Set parameter Seed to value 77\n",
      "Gurobi Optimizer version 9.5.2 build v9.5.2rc0 (mac64[x86])\n",
      "Thread count: 4 physical cores, 8 logical processors, using up to 8 threads\n",
      "Optimize a model with 4380 rows, 6480 columns and 58878 nonzeros\n",
      "Model fingerprint: 0x112d3696\n",
      "Variable types: 4260 continuous, 2220 integer (2220 binary)\n",
      "Coefficient statistics:\n",
      "  Matrix range     [1e-01, 1e+04]\n",
      "  Objective range  [0e+00, 0e+00]\n",
      "  Bounds range     [1e+00, 6e+03]\n",
      "  RHS range        [1e+00, 5e+04]\n",
      "Presolve removed 418 rows and 620 columns\n",
      "Presolve time: 0.38s\n",
      "Presolved: 3962 rows, 5860 columns, 55418 nonzeros\n",
      "Variable types: 3862 continuous, 1998 integer (1998 binary)\n",
      "\n",
      "Root relaxation: objective 0.000000e+00, 2537 iterations, 0.18 seconds (0.15 work units)\n",
      "\n",
      "    Nodes    |    Current Node    |     Objective Bounds      |     Work\n",
      " Expl Unexpl |  Obj  Depth IntInf | Incumbent    BestBd   Gap | It/Node Time\n",
      "\n",
      "     0     0    0.00000    0  165          -    0.00000      -     -    1s\n",
      "     0     0    0.00000    0  222          -    0.00000      -     -    1s\n",
      "     0     0    0.00000    0  202          -    0.00000      -     -    1s\n",
      "     0     0    0.00000    0   72          -    0.00000      -     -    4s\n",
      "     0     0    0.00000    0   78          -    0.00000      -     -    4s\n",
      "     0     0    0.00000    0   80          -    0.00000      -     -    5s\n",
      "     0     0    0.00000    0  210          -    0.00000      -     -    5s\n",
      "     0     0    0.00000    0   72          -    0.00000      -     -    7s\n",
      "     0     0    0.00000    0   89          -    0.00000      -     -    7s\n",
      "     0     0    0.00000    0   71          -    0.00000      -     -    8s\n",
      "     0     0    0.00000    0   65          -    0.00000      -     -    8s\n",
      "     0     2    0.00000    0   60          -    0.00000      -     -   11s\n",
      "   142   181    0.00000   47  269          -    0.00000      -   422   17s\n",
      "\n",
      "Cutting planes:\n",
      "  Gomory: 27\n",
      "  Cover: 8\n",
      "  Implied bound: 220\n",
      "  Clique: 1\n",
      "  MIR: 522\n",
      "  StrongCG: 1\n",
      "  Flow cover: 801\n",
      "  RLT: 6\n",
      "  Relax-and-lift: 19\n",
      "\n",
      "Explored 236 nodes (139793 simplex iterations) in 17.98 seconds (10.93 work units)\n",
      "Thread count was 8 (of 8 available processors)\n",
      "\n",
      "Solution count 0\n",
      "\n",
      "Solve interrupted\n",
      "Best objective -, best bound 0.000000000000e+00, gap -\n",
      "0.0\n"
     ]
    },
    {
     "name": "stderr",
     "output_type": "stream",
     "text": [
      "<ipython-input-2-543bf2a1acfd>:13: DeprecationWarning: Deprecated, pass a TempConstr or use Model.addLConstr\n",
      "  all_add_slack_time, all_add_slack_status  = solve_all_add_slack(A, vars, SENSE, RHS)\n"
     ]
    },
    {
     "name": "stdout",
     "output_type": "stream",
     "text": [
      "Set parameter Seed to value 77\n",
      "Gurobi Optimizer version 9.5.2 build v9.5.2rc0 (mac64[x86])\n",
      "Thread count: 4 physical cores, 8 logical processors, using up to 8 threads\n",
      "Optimize a model with 4380 rows, 12900 columns and 65298 nonzeros\n",
      "Model fingerprint: 0xad64dd58\n",
      "Variable types: 10680 continuous, 2220 integer (2220 binary)\n",
      "Coefficient statistics:\n",
      "  Matrix range     [1e-01, 1e+04]\n",
      "  Objective range  [1e+00, 1e+00]\n",
      "  Bounds range     [1e+00, 6e+03]\n",
      "  RHS range        [1e+00, 5e+04]\n",
      "Found heuristic solution: objective 2418826.0000\n",
      "Presolve time: 0.09s\n",
      "Presolved: 4380 rows, 12900 columns, 65298 nonzeros\n",
      "Variable types: 10660 continuous, 2240 integer (2220 binary)\n",
      "\n",
      "Root relaxation: objective 0.000000e+00, 2537 iterations, 0.22 seconds (0.17 work units)\n",
      "\n",
      "    Nodes    |    Current Node    |     Objective Bounds      |     Work\n",
      " Expl Unexpl |  Obj  Depth IntInf | Incumbent    BestBd   Gap | It/Node Time\n",
      "\n",
      "     0     0    0.00000    0  123 2418826.00    0.00000   100%     -    0s\n",
      "H    0     0                    48401.879677    0.00000   100%     -    1s\n",
      "     0     0    0.00000    0  201 48401.8797    0.00000   100%     -    1s\n",
      "H    0     0                    40474.358093    0.00000   100%     -    1s\n",
      "     0     0    0.00000    0  187 40474.3581    0.00000   100%     -    1s\n",
      "H    0     0                     119.0000000    0.00000   100%     -    2s\n",
      "H    0     0                      67.0000000    0.00000   100%     -    2s\n",
      "H    0     0                      57.0000000    0.00000   100%     -    3s\n",
      "     0     0    0.00000    0   85   57.00000    0.00000   100%     -    3s\n",
      "     0     0    0.00000    0   93   57.00000    0.00000   100%     -    4s\n"
     ]
    }
   ],
   "source": [
    "#instance = ['10teams','bab5', '22433']\n",
    "instance = ['atm20-100', 'bab1', 'bab2']\n",
    "nBlocks_lst = [2,3,4,5,6,7,8,9,10]\n",
    "HGtype = 'rc' # hypergraph type: 'r' row-net\n",
    "\n",
    "\n",
    "result_all = pd.DataFrame()\n",
    "for i in range(len(instance)):\n",
    "    m, m_new, m_new1, m_new2 = read_model(instance[i])\n",
    "    A, x, con, sizeA, nonzeros, RHS, SENSE, vars = get_info(m)\n",
    "    \n",
    "    obj_to_0_time, obj_to_0_status  = solve_obj_0(m_new1)\n",
    "    all_add_slack_time, all_add_slack_status  = solve_all_add_slack(A, vars, SENSE, RHS)\n",
    "    print('Obj to 0 solving time:', obj_to_0_time)\n",
    "    print('All adding slack variable solving time:', all_add_slack_time)\n",
    "    for nBlocks in nBlocks_lst:\n",
    "        add_slack, add_copy_var, num_linking_cons, num_copy_var, lowest_count, highest_count = decomp_model(A, sizeA, con, nonzeros, vars, instance[i], nBlocks, weight_r = 1, weight_c = 1.2)\n",
    "        feasibility_time, feasibility_status = solve_decomp_with_slack(A, vars, RHS, SENSE, add_slack, add_copy_var)\n",
    "        \n",
    "        print('Linking Constraint Feasibility Problem solving time:', feasibility_time)\n",
    "        result = pd.DataFrame()\n",
    "        result['instance'] = [instance[i]]\n",
    "        result['Number of blocks'] = [nBlocks]\n",
    "        result['Hypergraph type'] = [HGtype]\n",
    "        result['Num linking cons'] = [num_linking_cons]\n",
    "        result['Largest block'] = [highest_count]\n",
    "        result['Smallest block'] = [lowest_count]\n",
    "        result['Linking constraint add slack time'] = [feasibility_time]\n",
    "        result['Linking constraint add slack status'] = [feasibility_status]\n",
    "        result['Obj to 0 time'] = [obj_to_0_time]\n",
    "        result['Obj to 0 status'] = [obj_to_0_status]\n",
    "        result['All add slack time'] = [all_add_slack_time]\n",
    "        result['All add slack status'] = [all_add_slack_status]\n",
    "        result_all = pd.concat([result_all, result])\n",
    "        \n",
    "result_all"
   ]
  }
 ],
 "metadata": {
  "kernelspec": {
   "display_name": "base",
   "language": "python",
   "name": "python3"
  },
  "language_info": {
   "codemirror_mode": {
    "name": "ipython",
    "version": 3
   },
   "file_extension": ".py",
   "mimetype": "text/x-python",
   "name": "python",
   "nbconvert_exporter": "python",
   "pygments_lexer": "ipython3",
   "version": "3.8.8"
  },
  "orig_nbformat": 4
 },
 "nbformat": 4,
 "nbformat_minor": 2
}
